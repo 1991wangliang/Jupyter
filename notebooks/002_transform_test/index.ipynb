{
 "cells": [
  {
   "cell_type": "markdown",
   "id": "590fb9e5-2de2-469f-ad7c-02f7aec22c86",
   "metadata": {},
   "source": [
    "# 图片处理教程\n",
    "\n",
    "\n",
    "![image.png](dog.jpg)\n",
    "\n"
   ]
  },
  {
   "cell_type": "code",
   "execution_count": null,
   "id": "89d804d5-f2cd-4eb8-b048-c25b6b56b4aa",
   "metadata": {},
   "outputs": [],
   "source": []
  }
 ],
 "metadata": {
  "kernelspec": {
   "display_name": "Python 3 (ipykernel)",
   "language": "python",
   "name": "python3"
  },
  "language_info": {
   "codemirror_mode": {
    "name": "ipython",
    "version": 3
   },
   "file_extension": ".py",
   "mimetype": "text/x-python",
   "name": "python",
   "nbconvert_exporter": "python",
   "pygments_lexer": "ipython3",
   "version": "3.8.10"
  }
 },
 "nbformat": 4,
 "nbformat_minor": 5
}
