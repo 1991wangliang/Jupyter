{
 "cells": [
  {
   "cell_type": "code",
   "execution_count": 2,
   "id": "df7b0a35-ddb6-4ea9-928f-27f3655820ea",
   "metadata": {},
   "outputs": [],
   "source": [
    "from paddlenlp import Taskflow"
   ]
  },
  {
   "cell_type": "code",
   "execution_count": 6,
   "id": "49c32ec2-7cde-46c9-880f-1f3c8fca5a7e",
   "metadata": {},
   "outputs": [],
   "source": [
    "tag = Taskflow(\"pos_tagging\",user_dict=\"user_dict.txt\")"
   ]
  },
  {
   "cell_type": "code",
   "execution_count": 9,
   "id": "22041e7c-9103-415c-a3fb-fb6299a3fd96",
   "metadata": {},
   "outputs": [
    {
     "name": "stdout",
     "output_type": "stream",
     "text": [
      "[('山东省', 'LOC'), ('日照市', 'LOC'), ('秦楼街道城建花园社区', 'LOC'), ('济南路', 'LOC'), ('壹号学府', 'ADDRESS'), ('1号楼', 'LOC'), ('-', 'w'), ('1', 'm'), ('-', 'w'), ('1201', 'm')]\n"
     ]
    }
   ],
   "source": [
    "data = tag(\"山东省日照市秦楼街道城建花园社区济南路壹号学府1号楼-1-1201\")\n",
    "print(data)"
   ]
  },
  {
   "cell_type": "markdown",
   "id": "7400c4fe-dfc3-4d80-89d9-bb9431e77605",
   "metadata": {},
   "source": [
    "数据解析处理思路:\n",
    "\n",
    "识别出来小区的信息数据。然后将其前面的数据处理掉:\n"
   ]
  },
  {
   "cell_type": "code",
   "execution_count": 23,
   "id": "030e1bbc-f615-4aa4-91f7-38e185ab31f7",
   "metadata": {},
   "outputs": [
    {
     "name": "stdout",
     "output_type": "stream",
     "text": [
      "['LOC', 'LOC', 'LOC', 'LOC', 'ADDRESS', 'LOC', 'w', 'm', 'w', 'm']\n"
     ]
    }
   ],
   "source": [
    "dict = []\n",
    "str = []\n",
    "for item in data:\n",
    "    dict.append(item[1])\n",
    "    str.append(item[0])\n",
    "print(dict)"
   ]
  },
  {
   "cell_type": "code",
   "execution_count": 25,
   "id": "1934e19d-2176-4fcb-8c4c-7c1e10a65a9d",
   "metadata": {},
   "outputs": [
    {
     "name": "stdout",
     "output_type": "stream",
     "text": [
      "['ADDRESS', 'LOC', 'w', 'm', 'w', 'm']\n"
     ]
    }
   ],
   "source": [
    "tag = 'ADDRESS'\n",
    "tagIndex = -1\n",
    "list = []\n",
    "for i,item in enumerate(dict):\n",
    "    if item == tag:\n",
    "        tagIndex = i\n",
    "    if tagIndex!=-1:\n",
    "        list.append(item)\n",
    "\n",
    "print(list)"
   ]
  },
  {
   "cell_type": "code",
   "execution_count": 36,
   "id": "953f5fd9-dc0c-4a87-bfba-bb17fb6f35e9",
   "metadata": {},
   "outputs": [
    {
     "name": "stdout",
     "output_type": "stream",
     "text": [
      "['ADDRESS,LOC,w,m,w,m=>m1,m2,,,', 'ADDRESS,LOC,w,m,w,m=>m1,m2,,,', 'ADDRESS,LOC,w,m,w,m=>m1,m2,,,']\n"
     ]
    }
   ],
   "source": [
    "\n",
    "import sys\n",
    "result = []\n",
    "with open('matchers.txt','r') as f:\n",
    "    for line in f:\n",
    "        result.append(line.strip('\\n'))\n",
    "print(result)\n"
   ]
  },
  {
   "cell_type": "code",
   "execution_count": 60,
   "id": "907d6e1f-97e1-45fa-9659-89ac21ced6ba",
   "metadata": {},
   "outputs": [
    {
     "name": "stdout",
     "output_type": "stream",
     "text": [
      "(True, 'm1,m2,,,')\n"
     ]
    }
   ],
   "source": [
    "def match(match,list):\n",
    "    str = \",\".join(list)\n",
    "    array =  match.split(\"=>\")\n",
    "    m = array[0]\n",
    "    return m==str,array[1];\n",
    "\n",
    "print(match(result[0],list)) \n",
    "# print(match('ADDRESS,LOC,w,m,w,m,m2',list) "
   ]
  },
  {
   "cell_type": "code",
   "execution_count": 61,
   "id": "d18273f0-6bf0-434a-8554-0be6b50940e5",
   "metadata": {},
   "outputs": [
    {
     "name": "stdout",
     "output_type": "stream",
     "text": [
      "xx\n",
      "xx\n",
      "xx\n"
     ]
    }
   ],
   "source": [
    "for item in result:\n",
    "    flag,matcher = match(item,list)\n",
    "    if flag:\n",
    "        print('xx')\n"
   ]
  },
  {
   "cell_type": "code",
   "execution_count": null,
   "id": "10a21fbf-fa30-4afc-ae9c-8ef4c52bd71b",
   "metadata": {},
   "outputs": [],
   "source": []
  }
 ],
 "metadata": {
  "kernelspec": {
   "display_name": "Python 3 (ipykernel)",
   "language": "python",
   "name": "python3"
  },
  "language_info": {
   "codemirror_mode": {
    "name": "ipython",
    "version": 3
   },
   "file_extension": ".py",
   "mimetype": "text/x-python",
   "name": "python",
   "nbconvert_exporter": "python",
   "pygments_lexer": "ipython3",
   "version": "3.9.7"
  }
 },
 "nbformat": 4,
 "nbformat_minor": 5
}
