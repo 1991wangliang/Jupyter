{
 "cells": [
  {
   "cell_type": "markdown",
   "id": "0a3dab2f-016d-4959-add1-dc9a7c081ff9",
   "metadata": {},
   "source": [
    "# PaddlePaddle NLP TaskFlow 教程"
   ]
  },
  {
   "cell_type": "code",
   "execution_count": 1,
   "id": "d7b3b53d-a02b-4cb8-a3d9-f35a1a7d57c4",
   "metadata": {},
   "outputs": [],
   "source": [
    "from paddlenlp import Taskflow"
   ]
  },
  {
   "cell_type": "markdown",
   "id": "1775ec23-e234-404d-bce5-9704cb9aa846",
   "metadata": {},
   "source": [
    "## 中文分词"
   ]
  },
  {
   "cell_type": "code",
   "execution_count": 2,
   "id": "c74d31bd-d7be-460e-be0f-82a3dc541db8",
   "metadata": {},
   "outputs": [],
   "source": [
    "seg = Taskflow(\"word_segmentation\")"
   ]
  },
  {
   "cell_type": "code",
   "execution_count": 3,
   "id": "612c22d9-783c-44fa-adbf-b7a5ad0e2169",
   "metadata": {},
   "outputs": [
    {
     "data": {
      "text/plain": [
       "['第十四届', '全运会', '在', '西安', '举办']"
      ]
     },
     "execution_count": 3,
     "metadata": {},
     "output_type": "execute_result"
    }
   ],
   "source": [
    "seg(\"第十四届全运会在西安举办\")"
   ]
  },
  {
   "cell_type": "markdown",
   "id": "978ea3e2-b23d-47d7-bc82-c32166ed739e",
   "metadata": {},
   "source": [
    "## 词性标注"
   ]
  },
  {
   "cell_type": "code",
   "execution_count": 4,
   "id": "a98e1e39-9286-4a47-be01-cd3c54759479",
   "metadata": {},
   "outputs": [],
   "source": [
    "tag = Taskflow(\"pos_tagging\")"
   ]
  },
  {
   "cell_type": "code",
   "execution_count": 5,
   "id": "77adbfe9-6fe3-4bd1-900a-755966146bb5",
   "metadata": {},
   "outputs": [
    {
     "data": {
      "text/plain": [
       "[('第十四届', 'm'), ('全运会', 'nz'), ('在', 'p'), ('西安', 'LOC'), ('举办', 'v')]"
      ]
     },
     "execution_count": 5,
     "metadata": {},
     "output_type": "execute_result"
    }
   ],
   "source": [
    "tag(\"第十四届全运会在西安举办\")"
   ]
  },
  {
   "cell_type": "markdown",
   "id": "6290d6ad-53b2-4cf7-98f2-87d063be85b9",
   "metadata": {},
   "source": [
    "## 命名实体识别"
   ]
  },
  {
   "cell_type": "code",
   "execution_count": 6,
   "id": "48fa3a1f-2f07-45cc-9b60-59dc042d4970",
   "metadata": {},
   "outputs": [
    {
     "name": "stderr",
     "output_type": "stream",
     "text": [
      "\u001b[32m[2022-04-20 09:35:16,051] [    INFO]\u001b[0m - Already cached /root/.paddlenlp/models/wordtag/vocab.txt\u001b[0m\n"
     ]
    }
   ],
   "source": [
    "ner = Taskflow(\"ner\")"
   ]
  },
  {
   "cell_type": "code",
   "execution_count": 7,
   "id": "5cfd52e6-4e29-4741-9988-9be5a9ee2222",
   "metadata": {},
   "outputs": [
    {
     "data": {
      "text/plain": [
       "[('《', 'w'),\n",
       " ('孤女', '作品类_实体'),\n",
       " ('》', 'w'),\n",
       " ('是', '肯定词'),\n",
       " ('2010年', '时间类'),\n",
       " ('九州出版社', '组织机构类'),\n",
       " ('出版', '场景事件'),\n",
       " ('的', '助词'),\n",
       " ('小说', '作品类_概念'),\n",
       " ('，', 'w'),\n",
       " ('作者', '人物类_概念'),\n",
       " ('是', '肯定词'),\n",
       " ('余兼羽', '人物类_实体')]"
      ]
     },
     "execution_count": 7,
     "metadata": {},
     "output_type": "execute_result"
    }
   ],
   "source": [
    "ner(\"《孤女》是2010年九州出版社出版的小说，作者是余兼羽\")"
   ]
  },
  {
   "cell_type": "markdown",
   "id": "b3406497-ce78-4648-ba43-59051969e177",
   "metadata": {},
   "source": [
    "## 『解语』- 名词短语标注"
   ]
  },
  {
   "cell_type": "code",
   "execution_count": 8,
   "id": "2e54833c-1280-433e-8efd-6c1d39fce08a",
   "metadata": {},
   "outputs": [
    {
     "name": "stderr",
     "output_type": "stream",
     "text": [
      "\u001b[32m[2022-04-20 09:35:16,816] [    INFO]\u001b[0m - Downloading model_state.pdparms from https://bj.bcebos.com/paddlenlp/taskflow/knowledge_mining/nptag/model_state.pdparams\u001b[0m\n",
      "\u001b[32m[2022-04-20 09:35:17,434] [    INFO]\u001b[0m - Already cached /root/.paddlenlp/models/nptag/vocab.txt\u001b[0m\n"
     ]
    }
   ],
   "source": [
    "nptag = Taskflow(\"knowledge_mining\", model=\"nptag\")"
   ]
  },
  {
   "cell_type": "code",
   "execution_count": 9,
   "id": "5412c7db-b8cf-4678-9792-99ec274b05f2",
   "metadata": {},
   "outputs": [
    {
     "data": {
      "text/plain": [
       "[{'text': '红曲霉菌', 'label': '微生物'}]"
      ]
     },
     "execution_count": 9,
     "metadata": {},
     "output_type": "execute_result"
    }
   ],
   "source": [
    "nptag(\"红曲霉菌\")"
   ]
  },
  {
   "cell_type": "markdown",
   "id": "a9e15bab-8f83-45f7-9ca1-2a85cb6c8b50",
   "metadata": {},
   "source": [
    "## 句法分析"
   ]
  },
  {
   "cell_type": "code",
   "execution_count": 10,
   "id": "5afe3491-50f0-4169-8e16-ce9ff8fcdd51",
   "metadata": {},
   "outputs": [],
   "source": [
    "ddp = Taskflow(\"dependency_parsing\")"
   ]
  },
  {
   "cell_type": "code",
   "execution_count": 11,
   "id": "cce3878b-18ad-4b8a-9d54-3628667309dc",
   "metadata": {},
   "outputs": [
    {
     "data": {
      "text/plain": [
       "[{'word': ['9月9日', '上午', '纳达尔', '在', '亚瑟·阿什球场', '击败', '俄罗斯', '球员', '梅德韦杰夫'],\n",
       "  'head': [2, 6, 6, 5, 6, 0, 8, 9, 6],\n",
       "  'deprel': ['ATT', 'ADV', 'SBV', 'MT', 'ADV', 'HED', 'ATT', 'ATT', 'VOB']}]"
      ]
     },
     "execution_count": 11,
     "metadata": {},
     "output_type": "execute_result"
    }
   ],
   "source": [
    "ddp(\"9月9日上午纳达尔在亚瑟·阿什球场击败俄罗斯球员梅德韦杰夫\")"
   ]
  },
  {
   "cell_type": "markdown",
   "id": "aa5014c2-701f-49de-bd08-1cf26942d3f2",
   "metadata": {},
   "source": [
    "## 情感分析"
   ]
  },
  {
   "cell_type": "code",
   "execution_count": 12,
   "id": "d4c8415e-7189-4b7d-9bcc-c1a4dd0520a0",
   "metadata": {},
   "outputs": [],
   "source": [
    "senta = Taskflow(\"sentiment_analysis\")"
   ]
  },
  {
   "cell_type": "code",
   "execution_count": 13,
   "id": "50d881ed-139a-4f25-8d29-4c81ef83b4d0",
   "metadata": {},
   "outputs": [
    {
     "data": {
      "text/plain": [
       "[{'text': '这个产品用起来真的很流畅，我非常喜欢',\n",
       "  'label': 'positive',\n",
       "  'score': 0.9938690066337585}]"
      ]
     },
     "execution_count": 13,
     "metadata": {},
     "output_type": "execute_result"
    }
   ],
   "source": [
    "senta(\"这个产品用起来真的很流畅，我非常喜欢\")"
   ]
  }
 ],
 "metadata": {
  "kernelspec": {
   "display_name": "Python 3 (ipykernel)",
   "language": "python",
   "name": "python3"
  },
  "language_info": {
   "codemirror_mode": {
    "name": "ipython",
    "version": 3
   },
   "file_extension": ".py",
   "mimetype": "text/x-python",
   "name": "python",
   "nbconvert_exporter": "python",
   "pygments_lexer": "ipython3",
   "version": "3.8.10"
  }
 },
 "nbformat": 4,
 "nbformat_minor": 5
}
