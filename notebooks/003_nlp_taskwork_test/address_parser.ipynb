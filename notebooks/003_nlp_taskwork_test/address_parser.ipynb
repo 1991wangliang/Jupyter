{
 "cells": [
  {
   "cell_type": "markdown",
   "id": "a6dc755b-03b5-476b-bd5a-a0684f092724",
   "metadata": {},
   "source": [
    "# 基于词性分析的地址解析匹配算法"
   ]
  },
  {
   "cell_type": "code",
   "execution_count": 1,
   "id": "df7b0a35-ddb6-4ea9-928f-27f3655820ea",
   "metadata": {},
   "outputs": [],
   "source": [
    "from paddlenlp import Taskflow"
   ]
  },
  {
   "cell_type": "code",
   "execution_count": 2,
   "id": "49c32ec2-7cde-46c9-880f-1f3c8fca5a7e",
   "metadata": {},
   "outputs": [],
   "source": [
    "tag = Taskflow(\"pos_tagging\",user_dict=\"user_dict.txt\")"
   ]
  },
  {
   "cell_type": "code",
   "execution_count": 3,
   "id": "22041e7c-9103-415c-a3fb-fb6299a3fd96",
   "metadata": {},
   "outputs": [
    {
     "name": "stdout",
     "output_type": "stream",
     "text": [
      "[('山东省', 'LOC'), ('日照市', 'LOC'), ('秦楼街道城建花园社区', 'LOC'), ('济南路', 'LOC'), ('壹号学府', 'ADDRESS'), ('1号楼', 'LOC'), ('-', 'w'), ('1', 'm'), ('-', 'w'), ('1201', 'm')]\n"
     ]
    }
   ],
   "source": [
    "data = tag(\"山东省日照市秦楼街道城建花园社区济南路壹号学府1号楼-1-1201\")\n",
    "print(data)"
   ]
  },
  {
   "cell_type": "markdown",
   "id": "7400c4fe-dfc3-4d80-89d9-bb9431e77605",
   "metadata": {},
   "source": [
    "## 移除省市数据信息\n",
    "\n",
    "先将识别出来小区的信息数据，将前面的省市数据去掉，只保留小区数据\n"
   ]
  },
  {
   "cell_type": "code",
   "execution_count": 4,
   "id": "030e1bbc-f615-4aa4-91f7-38e185ab31f7",
   "metadata": {},
   "outputs": [
    {
     "name": "stdout",
     "output_type": "stream",
     "text": [
      "['LOC', 'LOC', 'LOC', 'LOC', 'ADDRESS', 'LOC', 'w', 'm', 'w', 'm']\n"
     ]
    }
   ],
   "source": [
    "dict = []\n",
    "str = []\n",
    "for item in data:\n",
    "    dict.append(item[1])\n",
    "    str.append(item[0])\n",
    "print(dict)"
   ]
  },
  {
   "cell_type": "code",
   "execution_count": 5,
   "id": "1934e19d-2176-4fcb-8c4c-7c1e10a65a9d",
   "metadata": {},
   "outputs": [
    {
     "name": "stdout",
     "output_type": "stream",
     "text": [
      "['ADDRESS', 'LOC', 'w', 'm', 'w', 'm']\n"
     ]
    }
   ],
   "source": [
    "tag = 'ADDRESS'\n",
    "tagIndex = -1\n",
    "list = []\n",
    "data = []\n",
    "for i,item in enumerate(dict):\n",
    "    if item == tag:\n",
    "        tagIndex = i\n",
    "    if tagIndex!=-1:\n",
    "        list.append(item)\n",
    "        data.append(str[i])\n",
    "\n",
    "print(list)"
   ]
  },
  {
   "cell_type": "markdown",
   "id": "6dec436c-e85a-473c-858d-86d5a6cd8e76",
   "metadata": {},
   "source": [
    "## 读取matcher数据匹配文件"
   ]
  },
  {
   "cell_type": "code",
   "execution_count": 6,
   "id": "953f5fd9-dc0c-4a87-bfba-bb17fb6f35e9",
   "metadata": {},
   "outputs": [
    {
     "name": "stdout",
     "output_type": "stream",
     "text": [
      "['ADDRESS,LOC,w,m,w,m=>ADDRESS_1,LOC_1,m_1,m_2,']\n"
     ]
    }
   ],
   "source": [
    "\n",
    "import sys\n",
    "result = []\n",
    "with open('matchers.txt','r') as f:\n",
    "    for line in f:    \n",
    "        if not line.startswith('#') and len(line.strip('\\n'))>0:\n",
    "            result.append(line.strip('\\n'))\n",
    "print(result)\n"
   ]
  },
  {
   "cell_type": "markdown",
   "id": "de7ab1dd-cbc0-4aa1-ba9c-2690e598f65b",
   "metadata": {},
   "source": [
    "## 定义数据匹配与数据解析提取函数"
   ]
  },
  {
   "cell_type": "code",
   "execution_count": 7,
   "id": "907d6e1f-97e1-45fa-9659-89ac21ced6ba",
   "metadata": {},
   "outputs": [
    {
     "name": "stdout",
     "output_type": "stream",
     "text": [
      "(True, 'ADDRESS_1,LOC_1,m_1,m_2,')\n"
     ]
    }
   ],
   "source": [
    "def match(match,list):\n",
    "    str = \",\".join(list)\n",
    "    array =  match.split(\"=>\")\n",
    "    m = array[0]\n",
    "    return m==str,array[1];\n",
    "\n",
    "print(match(result[0],list)) \n",
    "# print(match('ADDRESS,LOC,w,m,w,m,m2',list) "
   ]
  },
  {
   "cell_type": "code",
   "execution_count": 8,
   "id": "d18273f0-6bf0-434a-8554-0be6b50940e5",
   "metadata": {},
   "outputs": [],
   "source": [
    "def parser(matcher,list,data):\n",
    "    \n",
    "    res = []\n",
    "   \n",
    "    for i,m in enumerate(matcher.split(\",\")):\n",
    "        flags = m.split(\"_\");\n",
    "        val = \"null\"\n",
    "        index = 1\n",
    "        if len(flags) == 2 :\n",
    "            f = flags[0]\n",
    "            n = int(flags[1])           \n",
    "            for j,item in enumerate(list):    \n",
    "                if item == f:                   \n",
    "                    if index == n:\n",
    "                        val = data[j]                                    \n",
    "                        res.append(val)\n",
    "                    index = index +1\n",
    "        else:\n",
    "             res.append(val)\n",
    "    return res \n",
    "\n"
   ]
  },
  {
   "cell_type": "markdown",
   "id": "55804849-ee50-40a7-a178-9b74ab0e886b",
   "metadata": {},
   "source": [
    "## 数据测试演示"
   ]
  },
  {
   "cell_type": "code",
   "execution_count": 9,
   "id": "10a21fbf-fa30-4afc-ae9c-8ef4c52bd71b",
   "metadata": {},
   "outputs": [
    {
     "name": "stdout",
     "output_type": "stream",
     "text": [
      "原数据: ['壹号学府', '1号楼', '-', '1', '-', '1201']\n",
      "词性: ['ADDRESS', 'LOC', 'w', 'm', 'w', 'm']\n",
      "结果: ['壹号学府', '1号楼', '1', '1201', 'null']\n"
     ]
    }
   ],
   "source": [
    "def execute(list,data):\n",
    "    for item in result:\n",
    "        flag, matcher = match(item,list)\n",
    "        if flag:\n",
    "           res =  parser(matcher,list,data)\n",
    "           return res \n",
    "\n",
    "output = execute(list,data)\n",
    "print('原数据:',data)        \n",
    "print('词性:',list)\n",
    "print('结果:',output)"
   ]
  },
  {
   "cell_type": "code",
   "execution_count": null,
   "id": "e1f84731-4bf1-4827-b15a-ebabd17b4318",
   "metadata": {},
   "outputs": [],
   "source": []
  }
 ],
 "metadata": {
  "kernelspec": {
   "display_name": "Python 3 (ipykernel)",
   "language": "python",
   "name": "python3"
  },
  "language_info": {
   "codemirror_mode": {
    "name": "ipython",
    "version": 3
   },
   "file_extension": ".py",
   "mimetype": "text/x-python",
   "name": "python",
   "nbconvert_exporter": "python",
   "pygments_lexer": "ipython3",
   "version": "3.9.7"
  }
 },
 "nbformat": 4,
 "nbformat_minor": 5
}
