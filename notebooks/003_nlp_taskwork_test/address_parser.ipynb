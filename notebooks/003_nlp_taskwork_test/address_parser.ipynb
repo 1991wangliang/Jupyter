{
 "cells": [
  {
   "cell_type": "markdown",
   "id": "a6dc755b-03b5-476b-bd5a-a0684f092724",
   "metadata": {},
   "source": [
    "# 基于词性分析的地址解析匹配算法"
   ]
  },
  {
   "cell_type": "code",
   "execution_count": 1,
   "id": "df7b0a35-ddb6-4ea9-928f-27f3655820ea",
   "metadata": {},
   "outputs": [
    {
     "name": "stderr",
     "output_type": "stream",
     "text": [
      "/bin/sh: 1: cat: not found\n",
      "/bin/sh: 1: grep: not found\n",
      "/bin/sh: 1: cat: not found\n",
      "/bin/sh: 1: grep: not found\n",
      "Error: Your machine doesn't support AVX, but the installed PaddlePaddle is avx core, you should reinstall paddlepaddle with no-avx core.\n"
     ]
    },
    {
     "ename": "ModuleNotFoundError",
     "evalue": "No module named 'paddle.fluid.core_noavx'",
     "output_type": "error",
     "traceback": [
      "\u001b[0;31m---------------------------------------------------------------------------\u001b[0m",
      "\u001b[0;31mModuleNotFoundError\u001b[0m                       Traceback (most recent call last)",
      "Input \u001b[0;32mIn [1]\u001b[0m, in \u001b[0;36m<cell line: 1>\u001b[0;34m()\u001b[0m\n\u001b[0;32m----> 1\u001b[0m \u001b[38;5;28;01mfrom\u001b[39;00m \u001b[38;5;21;01mpaddlenlp\u001b[39;00m \u001b[38;5;28;01mimport\u001b[39;00m Taskflow\n",
      "File \u001b[0;32m~/miniconda3/lib/python3.8/site-packages/paddlenlp/__init__.py:24\u001b[0m, in \u001b[0;36m<module>\u001b[0;34m\u001b[0m\n\u001b[1;32m     18\u001b[0m     \u001b[38;5;28;01mfrom\u001b[39;00m \u001b[38;5;21;01mpaddlenlp\u001b[39;00m\u001b[38;5;21;01m.\u001b[39;00m\u001b[38;5;21;01mutils\u001b[39;00m\u001b[38;5;21;01m.\u001b[39;00m\u001b[38;5;21;01mlog\u001b[39;00m \u001b[38;5;28;01mimport\u001b[39;00m logger\n\u001b[1;32m     19\u001b[0m     logger\u001b[38;5;241m.\u001b[39mwarning(\n\u001b[1;32m     20\u001b[0m         \u001b[38;5;124m\"\u001b[39m\u001b[38;5;124mDetected that datasets module was imported before paddlenlp. \u001b[39m\u001b[38;5;124m\"\u001b[39m\n\u001b[1;32m     21\u001b[0m         \u001b[38;5;124m\"\u001b[39m\u001b[38;5;124mThis may cause PaddleNLP datasets to be unavalible in intranet\u001b[39m\u001b[38;5;124m\"\u001b[39m\n\u001b[1;32m     22\u001b[0m         \u001b[38;5;124m\"\u001b[39m\u001b[38;5;124mPlease import paddlenlp before datasets module to avoid download issues\u001b[39m\u001b[38;5;124m\"\u001b[39m\n\u001b[1;32m     23\u001b[0m     )\n\u001b[0;32m---> 24\u001b[0m \u001b[38;5;28;01mfrom\u001b[39;00m \u001b[38;5;21;01m.\u001b[39;00m \u001b[38;5;28;01mimport\u001b[39;00m data\n\u001b[1;32m     25\u001b[0m \u001b[38;5;28;01mfrom\u001b[39;00m \u001b[38;5;21;01m.\u001b[39;00m \u001b[38;5;28;01mimport\u001b[39;00m datasets\n\u001b[1;32m     26\u001b[0m \u001b[38;5;28;01mfrom\u001b[39;00m \u001b[38;5;21;01m.\u001b[39;00m \u001b[38;5;28;01mimport\u001b[39;00m embeddings\n",
      "File \u001b[0;32m~/miniconda3/lib/python3.8/site-packages/paddlenlp/data/__init__.py:15\u001b[0m, in \u001b[0;36m<module>\u001b[0;34m\u001b[0m\n\u001b[1;32m      1\u001b[0m \u001b[38;5;66;03m# Copyright (c) 2020 PaddlePaddle Authors. All Rights Reserved.\u001b[39;00m\n\u001b[1;32m      2\u001b[0m \u001b[38;5;66;03m#\u001b[39;00m\n\u001b[1;32m      3\u001b[0m \u001b[38;5;66;03m# Licensed under the Apache License, Version 2.0 (the \"License\");\u001b[39;00m\n\u001b[0;32m   (...)\u001b[0m\n\u001b[1;32m     12\u001b[0m \u001b[38;5;66;03m# See the License for the specific language governing permissions and\u001b[39;00m\n\u001b[1;32m     13\u001b[0m \u001b[38;5;66;03m# limitations under the License.\u001b[39;00m\n\u001b[0;32m---> 15\u001b[0m \u001b[38;5;28;01mfrom\u001b[39;00m \u001b[38;5;21;01m.\u001b[39;00m\u001b[38;5;21;01mcollate\u001b[39;00m \u001b[38;5;28;01mimport\u001b[39;00m \u001b[38;5;241m*\u001b[39m\n\u001b[1;32m     16\u001b[0m \u001b[38;5;28;01mfrom\u001b[39;00m \u001b[38;5;21;01m.\u001b[39;00m\u001b[38;5;21;01mdata_collator\u001b[39;00m \u001b[38;5;28;01mimport\u001b[39;00m \u001b[38;5;241m*\u001b[39m\n\u001b[1;32m     17\u001b[0m \u001b[38;5;28;01mfrom\u001b[39;00m \u001b[38;5;21;01m.\u001b[39;00m\u001b[38;5;21;01mvocab\u001b[39;00m \u001b[38;5;28;01mimport\u001b[39;00m \u001b[38;5;241m*\u001b[39m\n",
      "File \u001b[0;32m~/miniconda3/lib/python3.8/site-packages/paddlenlp/data/collate.py:17\u001b[0m, in \u001b[0;36m<module>\u001b[0;34m\u001b[0m\n\u001b[1;32m      1\u001b[0m \u001b[38;5;66;03m# Copyright (c) 2020 PaddlePaddle Authors. All Rights Reserved.\u001b[39;00m\n\u001b[1;32m      2\u001b[0m \u001b[38;5;66;03m# Copyright 2018 The Google AI Language Team Authors and The HuggingFace Inc. team.\u001b[39;00m\n\u001b[1;32m      3\u001b[0m \n\u001b[0;32m   (...)\u001b[0m\n\u001b[1;32m     13\u001b[0m \u001b[38;5;66;03m# See the License for the specific language governing permissions and\u001b[39;00m\n\u001b[1;32m     14\u001b[0m \u001b[38;5;66;03m# limitations under the License.\u001b[39;00m\n\u001b[1;32m     16\u001b[0m \u001b[38;5;28;01mimport\u001b[39;00m \u001b[38;5;21;01mnumpy\u001b[39;00m \u001b[38;5;28;01mas\u001b[39;00m \u001b[38;5;21;01mnp\u001b[39;00m\n\u001b[0;32m---> 17\u001b[0m \u001b[38;5;28;01mimport\u001b[39;00m \u001b[38;5;21;01mpaddle\u001b[39;00m\n\u001b[1;32m     19\u001b[0m __all__ \u001b[38;5;241m=\u001b[39m [\n\u001b[1;32m     20\u001b[0m     \u001b[38;5;124m'\u001b[39m\u001b[38;5;124mStack\u001b[39m\u001b[38;5;124m'\u001b[39m,\n\u001b[1;32m     21\u001b[0m     \u001b[38;5;124m'\u001b[39m\u001b[38;5;124mPad\u001b[39m\u001b[38;5;124m'\u001b[39m,\n\u001b[1;32m     22\u001b[0m     \u001b[38;5;124m'\u001b[39m\u001b[38;5;124mTuple\u001b[39m\u001b[38;5;124m'\u001b[39m,\n\u001b[1;32m     23\u001b[0m     \u001b[38;5;124m'\u001b[39m\u001b[38;5;124mDict\u001b[39m\u001b[38;5;124m'\u001b[39m,\n\u001b[1;32m     24\u001b[0m ]\n\u001b[1;32m     27\u001b[0m \u001b[38;5;28;01mclass\u001b[39;00m \u001b[38;5;21;01mStack\u001b[39;00m(\u001b[38;5;28mobject\u001b[39m):\n",
      "File \u001b[0;32m~/miniconda3/lib/python3.8/site-packages/paddle/__init__.py:25\u001b[0m, in \u001b[0;36m<module>\u001b[0;34m\u001b[0m\n\u001b[1;32m     20\u001b[0m     sys\u001b[38;5;241m.\u001b[39mstderr\u001b[38;5;241m.\u001b[39mwrite(\u001b[38;5;124m'''\u001b[39m\u001b[38;5;124mWarning with import paddle: you should not\u001b[39m\n\u001b[1;32m     21\u001b[0m \u001b[38;5;124m     import paddle from the source directory; please install paddlepaddle*.whl firstly.\u001b[39m\u001b[38;5;124m'''\u001b[39m\n\u001b[1;32m     22\u001b[0m                      )\n\u001b[1;32m     24\u001b[0m \u001b[38;5;28;01mfrom\u001b[39;00m \u001b[38;5;21;01m.\u001b[39;00m\u001b[38;5;21;01mbatch\u001b[39;00m \u001b[38;5;28;01mimport\u001b[39;00m batch  \u001b[38;5;66;03m# noqa: F401\u001b[39;00m\n\u001b[0;32m---> 25\u001b[0m \u001b[38;5;28;01mfrom\u001b[39;00m \u001b[38;5;21;01m.\u001b[39;00m\u001b[38;5;21;01mfluid\u001b[39;00m \u001b[38;5;28;01mimport\u001b[39;00m monkey_patch_variable\n\u001b[1;32m     26\u001b[0m \u001b[38;5;28;01mfrom\u001b[39;00m \u001b[38;5;21;01m.\u001b[39;00m\u001b[38;5;21;01mfluid\u001b[39;00m\u001b[38;5;21;01m.\u001b[39;00m\u001b[38;5;21;01mdygraph\u001b[39;00m \u001b[38;5;28;01mimport\u001b[39;00m monkey_patch_math_varbase\n\u001b[1;32m     27\u001b[0m monkey_patch_variable()\n",
      "File \u001b[0;32m~/miniconda3/lib/python3.8/site-packages/paddle/fluid/__init__.py:36\u001b[0m, in \u001b[0;36m<module>\u001b[0;34m\u001b[0m\n\u001b[1;32m     33\u001b[0m         \u001b[38;5;28;01mraise\u001b[39;00m e\n\u001b[1;32m     35\u001b[0m \u001b[38;5;66;03m# import all class inside framework into fluid module\u001b[39;00m\n\u001b[0;32m---> 36\u001b[0m \u001b[38;5;28;01mfrom\u001b[39;00m \u001b[38;5;21;01m.\u001b[39;00m \u001b[38;5;28;01mimport\u001b[39;00m framework\n\u001b[1;32m     37\u001b[0m \u001b[38;5;28;01mfrom\u001b[39;00m \u001b[38;5;21;01m.\u001b[39;00m\u001b[38;5;21;01mframework\u001b[39;00m \u001b[38;5;28;01mimport\u001b[39;00m \u001b[38;5;241m*\u001b[39m\n\u001b[1;32m     38\u001b[0m \u001b[38;5;66;03m# import all class inside executor into fluid module\u001b[39;00m\n",
      "File \u001b[0;32m~/miniconda3/lib/python3.8/site-packages/paddle/fluid/framework.py:37\u001b[0m, in \u001b[0;36m<module>\u001b[0;34m\u001b[0m\n\u001b[1;32m     34\u001b[0m \u001b[38;5;28;01mfrom\u001b[39;00m \u001b[38;5;21;01m.\u001b[39;00m\u001b[38;5;21;01m.\u001b[39;00m \u001b[38;5;28;01mimport\u001b[39;00m compat \u001b[38;5;28;01mas\u001b[39;00m cpt\n\u001b[1;32m     35\u001b[0m \u001b[38;5;28;01mfrom\u001b[39;00m \u001b[38;5;21;01m.\u001b[39;00m\u001b[38;5;21;01mproto\u001b[39;00m \u001b[38;5;28;01mimport\u001b[39;00m framework_pb2\n\u001b[0;32m---> 37\u001b[0m \u001b[38;5;28;01mfrom\u001b[39;00m \u001b[38;5;21;01m.\u001b[39;00m \u001b[38;5;28;01mimport\u001b[39;00m core\n\u001b[1;32m     38\u001b[0m \u001b[38;5;28;01mfrom\u001b[39;00m \u001b[38;5;21;01m.\u001b[39;00m \u001b[38;5;28;01mimport\u001b[39;00m unique_name\n\u001b[1;32m     39\u001b[0m \u001b[38;5;28;01mimport\u001b[39;00m \u001b[38;5;21;01mpaddle\u001b[39;00m\u001b[38;5;21;01m.\u001b[39;00m\u001b[38;5;21;01mversion\u001b[39;00m \u001b[38;5;28;01mas\u001b[39;00m \u001b[38;5;21;01mfluid_version\u001b[39;00m\n",
      "File \u001b[0;32m~/miniconda3/lib/python3.8/site-packages/paddle/fluid/core.py:357\u001b[0m, in \u001b[0;36m<module>\u001b[0;34m\u001b[0m\n\u001b[1;32m    352\u001b[0m         \u001b[38;5;28;01melse\u001b[39;00m:\n\u001b[1;32m    353\u001b[0m             sys\u001b[38;5;241m.\u001b[39mstderr\u001b[38;5;241m.\u001b[39mwrite(\n\u001b[1;32m    354\u001b[0m                 \u001b[38;5;124m\"\u001b[39m\u001b[38;5;124mError: Your machine doesn\u001b[39m\u001b[38;5;124m'\u001b[39m\u001b[38;5;124mt support AVX, but the installed PaddlePaddle is avx core, \u001b[39m\u001b[38;5;124m\"\u001b[39m\n\u001b[1;32m    355\u001b[0m                 \u001b[38;5;124m\"\u001b[39m\u001b[38;5;124myou should reinstall paddlepaddle with no-avx core.\u001b[39m\u001b[38;5;130;01m\\n\u001b[39;00m\u001b[38;5;124m\"\u001b[39m)\n\u001b[0;32m--> 357\u001b[0m         \u001b[38;5;28;01mraise\u001b[39;00m e\n\u001b[1;32m    360\u001b[0m \u001b[38;5;66;03m# set paddle lib path\u001b[39;00m\n\u001b[1;32m    361\u001b[0m \u001b[38;5;28;01mdef\u001b[39;00m \u001b[38;5;21mset_paddle_lib_path\u001b[39m():\n",
      "File \u001b[0;32m~/miniconda3/lib/python3.8/site-packages/paddle/fluid/core.py:309\u001b[0m, in \u001b[0;36m<module>\u001b[0;34m\u001b[0m\n\u001b[1;32m    307\u001b[0m \u001b[38;5;28;01mif\u001b[39;00m load_noavx:\n\u001b[1;32m    308\u001b[0m     \u001b[38;5;28;01mtry\u001b[39;00m:\n\u001b[0;32m--> 309\u001b[0m         \u001b[38;5;28;01mfrom\u001b[39;00m \u001b[38;5;21;01m.\u001b[39;00m\u001b[38;5;21;01mcore_noavx\u001b[39;00m \u001b[38;5;28;01mimport\u001b[39;00m \u001b[38;5;241m*\u001b[39m\n\u001b[1;32m    310\u001b[0m         \u001b[38;5;28;01mfrom\u001b[39;00m \u001b[38;5;21;01m.\u001b[39;00m\u001b[38;5;21;01mcore_noavx\u001b[39;00m \u001b[38;5;28;01mimport\u001b[39;00m \u001b[38;5;18m__doc__\u001b[39m, \u001b[38;5;18m__file__\u001b[39m, \u001b[38;5;18m__name__\u001b[39m, __package__\n\u001b[1;32m    311\u001b[0m         \u001b[38;5;28;01mfrom\u001b[39;00m \u001b[38;5;21;01m.\u001b[39;00m\u001b[38;5;21;01mcore_noavx\u001b[39;00m \u001b[38;5;28;01mimport\u001b[39;00m __unittest_throw_exception__\n",
      "\u001b[0;31mModuleNotFoundError\u001b[0m: No module named 'paddle.fluid.core_noavx'"
     ]
    }
   ],
   "source": [
    "from paddlenlp import Taskflow"
   ]
  },
  {
   "cell_type": "code",
   "execution_count": null,
   "id": "49c32ec2-7cde-46c9-880f-1f3c8fca5a7e",
   "metadata": {},
   "outputs": [],
   "source": [
    "tag = Taskflow(\"pos_tagging\",user_dict=\"user_dict.txt\")"
   ]
  },
  {
   "cell_type": "code",
   "execution_count": null,
   "id": "22041e7c-9103-415c-a3fb-fb6299a3fd96",
   "metadata": {},
   "outputs": [],
   "source": [
    "data = tag(\"山东省日照市秦楼街道城建花园社区济南路壹号学府1号楼-1-1201\")\n",
    "print(data)"
   ]
  },
  {
   "cell_type": "code",
   "execution_count": null,
   "id": "d3006cf3-c6f3-4374-a0a0-18321a7001df",
   "metadata": {},
   "outputs": [],
   "source": [
    "tag.kwargs"
   ]
  },
  {
   "cell_type": "markdown",
   "id": "7400c4fe-dfc3-4d80-89d9-bb9431e77605",
   "metadata": {},
   "source": [
    "## 移除省市数据信息\n",
    "\n",
    "先将识别出来小区的信息数据，将前面的省市数据去掉，只保留小区数据\n"
   ]
  },
  {
   "cell_type": "code",
   "execution_count": null,
   "id": "030e1bbc-f615-4aa4-91f7-38e185ab31f7",
   "metadata": {},
   "outputs": [],
   "source": [
    "dict = []\n",
    "str = []\n",
    "for item in data:\n",
    "    dict.append(item[1])\n",
    "    str.append(item[0])\n",
    "print(dict)"
   ]
  },
  {
   "cell_type": "code",
   "execution_count": null,
   "id": "1934e19d-2176-4fcb-8c4c-7c1e10a65a9d",
   "metadata": {},
   "outputs": [],
   "source": [
    "tag = 'ADDRESS'\n",
    "tagIndex = -1\n",
    "list = []\n",
    "data = []\n",
    "for i,item in enumerate(dict):\n",
    "    if item == tag:\n",
    "        tagIndex = i\n",
    "    if tagIndex!=-1:\n",
    "        list.append(item)\n",
    "        data.append(str[i])\n",
    "\n",
    "print(list)"
   ]
  },
  {
   "cell_type": "markdown",
   "id": "6dec436c-e85a-473c-858d-86d5a6cd8e76",
   "metadata": {},
   "source": [
    "## 读取matcher数据匹配文件"
   ]
  },
  {
   "cell_type": "code",
   "execution_count": null,
   "id": "953f5fd9-dc0c-4a87-bfba-bb17fb6f35e9",
   "metadata": {},
   "outputs": [],
   "source": [
    "\n",
    "import sys\n",
    "result = []\n",
    "with open('matchers.txt','r') as f:\n",
    "    for line in f:    \n",
    "        if not line.startswith('#') and len(line.strip('\\n'))>0:\n",
    "            result.append(line.strip('\\n'))\n",
    "print(result)\n"
   ]
  },
  {
   "cell_type": "markdown",
   "id": "de7ab1dd-cbc0-4aa1-ba9c-2690e598f65b",
   "metadata": {},
   "source": [
    "## 定义数据匹配与数据解析提取函数"
   ]
  },
  {
   "cell_type": "code",
   "execution_count": null,
   "id": "907d6e1f-97e1-45fa-9659-89ac21ced6ba",
   "metadata": {},
   "outputs": [],
   "source": [
    "def match(match,list):\n",
    "    str = \",\".join(list)\n",
    "    array =  match.split(\"=>\")\n",
    "    m = array[0]\n",
    "    return m==str,array[1];\n",
    "\n",
    "print(match(result[0],list)) \n",
    "# print(match('ADDRESS,LOC,w,m,w,m,m2',list) "
   ]
  },
  {
   "cell_type": "code",
   "execution_count": null,
   "id": "d18273f0-6bf0-434a-8554-0be6b50940e5",
   "metadata": {},
   "outputs": [],
   "source": [
    "def parser(matcher,list,data):\n",
    "    \n",
    "    res = []\n",
    "   \n",
    "    for i,m in enumerate(matcher.split(\",\")):\n",
    "        flags = m.split(\"_\");\n",
    "        val = \"null\"\n",
    "        index = 1\n",
    "        if len(flags) == 2 :\n",
    "            f = flags[0]\n",
    "            n = int(flags[1])           \n",
    "            for j,item in enumerate(list):    \n",
    "                if item == f:                   \n",
    "                    if index == n:\n",
    "                        val = data[j]                                    \n",
    "                        res.append(val)\n",
    "                    index = index +1\n",
    "        else:\n",
    "             res.append(val)\n",
    "    return res \n",
    "\n"
   ]
  },
  {
   "cell_type": "markdown",
   "id": "55804849-ee50-40a7-a178-9b74ab0e886b",
   "metadata": {},
   "source": [
    "## 数据测试演示"
   ]
  },
  {
   "cell_type": "code",
   "execution_count": null,
   "id": "10a21fbf-fa30-4afc-ae9c-8ef4c52bd71b",
   "metadata": {},
   "outputs": [],
   "source": [
    "def execute(list,data):\n",
    "    for item in result:\n",
    "        flag, matcher = match(item,list)\n",
    "        if flag:\n",
    "           res =  parser(matcher,list,data)\n",
    "           return res \n",
    "\n",
    "output = execute(list,data)\n",
    "print('原数据:',data)        \n",
    "print('词性:',list)\n",
    "print('结果:',output)"
   ]
  },
  {
   "cell_type": "code",
   "execution_count": null,
   "id": "e1f84731-4bf1-4827-b15a-ebabd17b4318",
   "metadata": {},
   "outputs": [],
   "source": []
  }
 ],
 "metadata": {
  "kernelspec": {
   "display_name": "Python 3 (ipykernel)",
   "language": "python",
   "name": "python3"
  },
  "language_info": {
   "codemirror_mode": {
    "name": "ipython",
    "version": 3
   },
   "file_extension": ".py",
   "mimetype": "text/x-python",
   "name": "python",
   "nbconvert_exporter": "python",
   "pygments_lexer": "ipython3",
   "version": "3.8.10"
  }
 },
 "nbformat": 4,
 "nbformat_minor": 5
}
