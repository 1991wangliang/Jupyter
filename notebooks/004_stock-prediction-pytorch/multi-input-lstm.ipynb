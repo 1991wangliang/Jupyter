{
 "cells": [
  {
   "cell_type": "markdown",
   "id": "11d1319d-8764-4c29-98e5-f3343ad2754c",
   "metadata": {},
   "source": [
    "# Multi-input LSTM"
   ]
  },
  {
   "cell_type": "code",
   "execution_count": 1,
   "id": "c79c3b71-83cf-4bc7-b426-affe9cad53ab",
   "metadata": {},
   "outputs": [
    {
     "name": "stdout",
     "output_type": "stream",
     "text": [
      "torch.Size([8, 3, 2]) torch.Size([8, 1])\n"
     ]
    }
   ],
   "source": [
    "import random\n",
    "import numpy as np\n",
    "import torch\n",
    "import torch.nn as nn\n",
    "\n",
    " \n",
    " \n",
    "# define input sequence\n",
    "in_seq1 = np.array([x for x in range(0,100,10)])\n",
    "in_seq2 = np.array([x for x in range(5,105,10)])\n",
    "out_seq = np.array([in_seq1[i]+in_seq2[i] for i in range(len(in_seq1))])\n",
    "\n",
    "\n",
    "# convert to [rows, columns] structure\n",
    "in_seq1 = in_seq1.reshape((len(in_seq1), 1))\n",
    "in_seq2 = in_seq2.reshape((len(in_seq2), 1))\n",
    "out_seq = out_seq.reshape((len(out_seq), 1))\n",
    "\n",
    "\n",
    "# horizontally stack columns\n",
    "dataset = np.hstack((in_seq1, in_seq2, out_seq))\n",
    "\n",
    "\n",
    "# split a multivariate sequence into samples\n",
    "def split_sequences(sequences, n_steps):\n",
    "    x,y = [],[]    \n",
    "    for i in range(len(sequences)):       \n",
    "        # find the end of this pattern\n",
    "        end_ix = i + n_steps\n",
    "        # check if we are beyond the dataset\n",
    "        if end_ix > len(sequences):\n",
    "            break\n",
    "        # gather input and output parts of the pattern       \n",
    "        seq_x  = sequences[i:end_ix, :-1]\n",
    "        seq_y  = sequences[end_ix -1, -1]\n",
    "        \n",
    "        x.append(seq_x)\n",
    "        y.append(seq_y)\n",
    "    \n",
    "    return np.array(x),np.array(y).reshape(len(y),1)\n",
    "\n",
    "\n",
    "from sklearn.preprocessing import MinMaxScaler\n",
    "\n",
    "# 数据归一化处理函数\n",
    "scaler = MinMaxScaler(feature_range=(-1, 1))\n",
    "\n",
    "dataset = scaler.fit_transform(dataset)\n",
    "\n",
    "n_timesteps = 3 # this is number of timesteps\n",
    "    \n",
    "# convert dataset into input/output\n",
    "x, y = split_sequences(dataset, n_timesteps)\n",
    "\n",
    "x = torch.tensor(x,dtype=torch.float32)\n",
    "y = torch.tensor(y,dtype=torch.float32)\n",
    "\n",
    "print(x.shape, y.shape)\n"
   ]
  },
  {
   "cell_type": "code",
   "execution_count": 2,
   "id": "ff329549-1f3c-4f85-bd81-4152a2d52dec",
   "metadata": {},
   "outputs": [],
   "source": [
    "# LSTM 神经网络定义\n",
    "class LSTM(nn.Module):\n",
    "    def __init__(self, input_dim, hidden_dim, num_layers, output_dim):\n",
    "        super(LSTM, self).__init__()\n",
    "        self.hidden_dim = hidden_dim\n",
    "        self.num_layers = num_layers\n",
    "        \n",
    "        self.lstm = nn.LSTM(input_dim, hidden_dim, num_layers, batch_first=True)\n",
    "        self.fc = nn.Linear(hidden_dim, output_dim)\n",
    "\n",
    "    def forward(self, x):\n",
    "        h0 = torch.randn(self.num_layers, x.size(0), self.hidden_dim)\n",
    "        c0 = torch.randn(self.num_layers, x.size(0), self.hidden_dim)\n",
    "        out, (hn, cn) = self.lstm(x, (h0, c0))\n",
    "        # print('out.shape',out.shape)\n",
    "        out = self.fc(out[:, -1, :]) \n",
    "        return out\n"
   ]
  },
  {
   "cell_type": "code",
   "execution_count": 3,
   "id": "2e964161-ecd1-46bb-afcd-1769098e5033",
   "metadata": {},
   "outputs": [],
   "source": [
    "n_features = 2 # this is number of parallel inputs\n",
    "\n",
    "mv_net = LSTM(input_dim = n_features, hidden_dim=32, output_dim=1, num_layers=1)\n",
    "criterion = torch.nn.MSELoss(reduction='mean') # reduction='sum' created huge loss value\n",
    "optimizer = torch.optim.Adam(mv_net.parameters(), lr=1e-1)\n"
   ]
  },
  {
   "cell_type": "code",
   "execution_count": 4,
   "id": "0ae9ee5e-57eb-4349-9d0d-ff0f02ebb8c6",
   "metadata": {},
   "outputs": [
    {
     "name": "stdout",
     "output_type": "stream",
     "text": [
      "step :  0 loss :  0.2860657870769501\n",
      "step :  10 loss :  0.019263986498117447\n",
      "step :  20 loss :  0.016997922211885452\n",
      "step :  30 loss :  0.024637797847390175\n",
      "step :  40 loss :  0.011430315673351288\n",
      "step :  50 loss :  0.005103104282170534\n",
      "step :  60 loss :  0.001886598183773458\n",
      "step :  70 loss :  0.0016857306472957134\n",
      "step :  80 loss :  0.002047975780442357\n",
      "step :  90 loss :  0.0006495072739198804\n",
      "step :  100 loss :  0.00048268146929331124\n",
      "step :  110 loss :  0.0009519142913632095\n",
      "step :  120 loss :  0.0002036448277067393\n"
     ]
    }
   ],
   "source": [
    "\n",
    "train_episodes = 128\n",
    "batch_size = 32\n",
    "\n",
    "for t in range(train_episodes):\n",
    "    for b in range(0,len(x),batch_size):\n",
    "        \n",
    "        x_batch = x[b:b+batch_size,:,:]        \n",
    "        y_batch = y[b:b+batch_size]    \n",
    "\n",
    "        output = mv_net(x_batch) \n",
    "\n",
    "        loss = criterion(output, y_batch)  \n",
    "        \n",
    "        optimizer.zero_grad() \n",
    "        loss.backward()\n",
    "        optimizer.step()        \n",
    "        \n",
    "        \n",
    "    if t % 10 == 0 :\n",
    "        print('step : ' , t , 'loss : ' , loss.item())"
   ]
  },
  {
   "cell_type": "markdown",
   "id": "8b46d3a9-1a83-4978-b3f3-6b16c3557906",
   "metadata": {},
   "source": [
    "## Link\n",
    "https://stackoverflow.com/questions/56858924/multivariate-input-lstm-in-pytorch  \n",
    "https://machinelearningmastery.com/multivariate-time-series-forecasting-lstms-keras/  \n",
    "https://www.kaggle.com/code/jphoon/bitcoin-time-series-prediction-with-lstm  "
   ]
  },
  {
   "cell_type": "code",
   "execution_count": null,
   "id": "c39bf9b2-8121-4064-83a2-4fb001685e78",
   "metadata": {},
   "outputs": [],
   "source": []
  }
 ],
 "metadata": {
  "kernelspec": {
   "display_name": "Python 3 (ipykernel)",
   "language": "python",
   "name": "python3"
  },
  "language_info": {
   "codemirror_mode": {
    "name": "ipython",
    "version": 3
   },
   "file_extension": ".py",
   "mimetype": "text/x-python",
   "name": "python",
   "nbconvert_exporter": "python",
   "pygments_lexer": "ipython3",
   "version": "3.8.10"
  }
 },
 "nbformat": 4,
 "nbformat_minor": 5
}
