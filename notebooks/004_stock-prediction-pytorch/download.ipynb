{
 "cells": [
  {
   "cell_type": "markdown",
   "id": "e2054285-4fe6-4e3a-9cf5-e18ff77a0ad0",
   "metadata": {},
   "source": [
    "## download data"
   ]
  },
  {
   "cell_type": "code",
   "execution_count": 1,
   "id": "3f073dad-7d70-48eb-871a-77a0ef10e8a4",
   "metadata": {},
   "outputs": [],
   "source": [
    "import os\n",
    "os.environ['HTTP_PROXY'] = \"http://127.0.0.1:7890\" \n",
    "os.environ['HTTPS_PROXY'] = \"http://127.0.0.1:7890\" "
   ]
  },
  {
   "cell_type": "code",
   "execution_count": 2,
   "id": "b10ff70d-70ca-4ca4-8793-30ca04001873",
   "metadata": {},
   "outputs": [
    {
     "name": "stdout",
     "output_type": "stream",
     "text": [
      "data/MMM_2006-01-01_to_2021-01-01.csv\n",
      "(3776, 6)\n",
      "data/AXP_2006-01-01_to_2021-01-01.csv\n",
      "(3776, 6)\n",
      "data/AAPL_2006-01-01_to_2021-01-01.csv\n",
      "(3776, 6)\n",
      "data/BA_2006-01-01_to_2021-01-01.csv\n",
      "(3776, 6)\n",
      "data/CAT_2006-01-01_to_2021-01-01.csv\n",
      "(3776, 6)\n",
      "data/CVX_2006-01-01_to_2021-01-01.csv\n",
      "(3776, 6)\n",
      "data/CSCO_2006-01-01_to_2021-01-01.csv\n",
      "(3776, 6)\n",
      "data/KO_2006-01-01_to_2021-01-01.csv\n",
      "(3776, 6)\n",
      "data/DIS_2006-01-01_to_2021-01-01.csv\n",
      "(3776, 6)\n",
      "data/XOM_2006-01-01_to_2021-01-01.csv\n",
      "(3776, 6)\n",
      "data/GE_2006-01-01_to_2021-01-01.csv\n",
      "(3776, 6)\n",
      "data/GS_2006-01-01_to_2021-01-01.csv\n",
      "(3776, 6)\n",
      "data/HD_2006-01-01_to_2021-01-01.csv\n",
      "(3776, 6)\n",
      "data/IBM_2006-01-01_to_2021-01-01.csv\n",
      "(3776, 6)\n",
      "data/INTC_2006-01-01_to_2021-01-01.csv\n",
      "(3776, 6)\n",
      "data/JNJ_2006-01-01_to_2021-01-01.csv\n",
      "(3776, 6)\n",
      "data/JPM_2006-01-01_to_2021-01-01.csv\n",
      "(3776, 6)\n",
      "data/MCD_2006-01-01_to_2021-01-01.csv\n",
      "(3776, 6)\n",
      "data/MRK_2006-01-01_to_2021-01-01.csv\n",
      "(3776, 6)\n",
      "data/MSFT_2006-01-01_to_2021-01-01.csv\n",
      "(3776, 6)\n",
      "data/NKE_2006-01-01_to_2021-01-01.csv\n",
      "(3776, 6)\n",
      "data/PFE_2006-01-01_to_2021-01-01.csv\n",
      "(3776, 6)\n",
      "data/PG_2006-01-01_to_2021-01-01.csv\n",
      "(3776, 6)\n",
      "data/TRV_2006-01-01_to_2021-01-01.csv\n",
      "(3776, 6)\n",
      "data/UNH_2006-01-01_to_2021-01-01.csv\n",
      "(3776, 6)\n",
      "data/VZ_2006-01-01_to_2021-01-01.csv\n",
      "(3776, 6)\n",
      "data/WMT_2006-01-01_to_2021-01-01.csv\n",
      "(3776, 6)\n",
      "data/GOOGL_2006-01-01_to_2021-01-01.csv\n",
      "(3776, 6)\n",
      "data/AMZN_2006-01-01_to_2021-01-01.csv\n",
      "(3776, 6)\n",
      "data/SPY_2006-01-01_to_2021-01-01.csv\n",
      "(3776, 6)\n"
     ]
    }
   ],
   "source": [
    "import pandas_datareader as pdr\n",
    "import datetime\n",
    "\n",
    "start = datetime.datetime(2006, 1, 1)\n",
    "end = datetime.datetime(2021, 1, 1)\n",
    "start_date_str = str(start.date())\n",
    "end_date_str = str(end.date())\n",
    "\n",
    "stocks = ['MMM', 'AXP', 'AAPL', 'BA', 'CAT', 'CVX', 'CSCO', 'KO', 'DIS', 'XOM', 'GE',\n",
    "          'GS', 'HD', 'IBM', 'INTC', 'JNJ', 'JPM', 'MCD', 'MRK', 'MSFT', 'NKE', 'PFE',\n",
    "          'PG', 'TRV', 'UNH', 'VZ', 'WMT', 'GOOGL', 'AMZN','SPY']\n",
    "\n",
    "for ticker in stocks:\n",
    "    file_name = 'data/' + ticker + '_' + start_date_str + '_to_' + end_date_str + '.csv'\n",
    "    print(file_name)\n",
    "    data = pdr.DataReader(ticker, 'yahoo', start, end)\n",
    "    print(data.shape)\n",
    "    data.to_csv(file_name)"
   ]
  },
  {
   "cell_type": "code",
   "execution_count": 3,
   "id": "f0729f02-f2cb-4bcd-88e1-1a28ce34e994",
   "metadata": {},
   "outputs": [
    {
     "name": "stdout",
     "output_type": "stream",
     "text": [
      "data  download.ipynb  download.py  index.ipynb\n"
     ]
    }
   ],
   "source": [
    "!ls"
   ]
  },
  {
   "cell_type": "code",
   "execution_count": null,
   "id": "6fd331dd-7601-4c8f-afee-78e88c44b5c1",
   "metadata": {},
   "outputs": [],
   "source": []
  }
 ],
 "metadata": {
  "kernelspec": {
   "display_name": "Python 3 (ipykernel)",
   "language": "python",
   "name": "python3"
  },
  "language_info": {
   "codemirror_mode": {
    "name": "ipython",
    "version": 3
   },
   "file_extension": ".py",
   "mimetype": "text/x-python",
   "name": "python",
   "nbconvert_exporter": "python",
   "pygments_lexer": "ipython3",
   "version": "3.8.10"
  },
  "toc-autonumbering": false,
  "toc-showcode": false,
  "toc-showmarkdowntxt": true
 },
 "nbformat": 4,
 "nbformat_minor": 5
}
