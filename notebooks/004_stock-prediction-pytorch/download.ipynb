{
 "cells": [
  {
   "cell_type": "markdown",
   "id": "e2054285-4fe6-4e3a-9cf5-e18ff77a0ad0",
   "metadata": {},
   "source": [
    "# Download Stock Data  "
   ]
  },
  {
   "cell_type": "code",
   "execution_count": 1,
   "id": "3f073dad-7d70-48eb-871a-77a0ef10e8a4",
   "metadata": {},
   "outputs": [],
   "source": [
    "import os\n",
    "os.environ['HTTP_PROXY'] = \"http://127.0.0.1:7890\" \n",
    "os.environ['HTTPS_PROXY'] = \"http://127.0.0.1:7890\" "
   ]
  },
  {
   "cell_type": "code",
   "execution_count": 2,
   "id": "5b94d422-dd05-4d1f-8599-fc2f9139c725",
   "metadata": {},
   "outputs": [],
   "source": [
    "! rm -rf data\n",
    "! mkdir -p data"
   ]
  },
  {
   "cell_type": "code",
   "execution_count": 3,
   "id": "b10ff70d-70ca-4ca4-8793-30ca04001873",
   "metadata": {},
   "outputs": [
    {
     "name": "stdout",
     "output_type": "stream",
     "text": [
      "data/MMM_2012-01-01_to_2022-05-11.csv\n",
      "(2607, 6)\n",
      "data/AXP_2012-01-01_to_2022-05-11.csv\n",
      "(2607, 6)\n",
      "data/AAPL_2012-01-01_to_2022-05-11.csv\n",
      "(2607, 6)\n",
      "data/BA_2012-01-01_to_2022-05-11.csv\n",
      "(2607, 6)\n",
      "data/CAT_2012-01-01_to_2022-05-11.csv\n",
      "(2607, 6)\n",
      "data/CVX_2012-01-01_to_2022-05-11.csv\n",
      "(2607, 6)\n",
      "data/CSCO_2012-01-01_to_2022-05-11.csv\n",
      "(2607, 6)\n",
      "data/KO_2012-01-01_to_2022-05-11.csv\n",
      "(2607, 6)\n",
      "data/DIS_2012-01-01_to_2022-05-11.csv\n",
      "(2607, 6)\n",
      "data/XOM_2012-01-01_to_2022-05-11.csv\n",
      "(2607, 6)\n",
      "data/GE_2012-01-01_to_2022-05-11.csv\n",
      "(2607, 6)\n",
      "data/GS_2012-01-01_to_2022-05-11.csv\n",
      "(2607, 6)\n",
      "data/HD_2012-01-01_to_2022-05-11.csv\n",
      "(2607, 6)\n",
      "data/IBM_2012-01-01_to_2022-05-11.csv\n",
      "(2607, 6)\n",
      "data/INTC_2012-01-01_to_2022-05-11.csv\n",
      "(2607, 6)\n",
      "data/JNJ_2012-01-01_to_2022-05-11.csv\n",
      "(2607, 6)\n",
      "data/JPM_2012-01-01_to_2022-05-11.csv\n",
      "(2607, 6)\n",
      "data/MCD_2012-01-01_to_2022-05-11.csv\n",
      "(2607, 6)\n",
      "data/MRK_2012-01-01_to_2022-05-11.csv\n",
      "(2607, 6)\n",
      "data/MSFT_2012-01-01_to_2022-05-11.csv\n",
      "(2607, 6)\n",
      "data/NKE_2012-01-01_to_2022-05-11.csv\n",
      "(2607, 6)\n",
      "data/PFE_2012-01-01_to_2022-05-11.csv\n",
      "(2607, 6)\n",
      "data/PG_2012-01-01_to_2022-05-11.csv\n",
      "(2607, 6)\n",
      "data/TRV_2012-01-01_to_2022-05-11.csv\n",
      "(2607, 6)\n",
      "data/UNH_2012-01-01_to_2022-05-11.csv\n",
      "(2607, 6)\n",
      "data/VZ_2012-01-01_to_2022-05-11.csv\n",
      "(2607, 6)\n",
      "data/WMT_2012-01-01_to_2022-05-11.csv\n",
      "(2607, 6)\n",
      "data/GOOGL_2012-01-01_to_2022-05-11.csv\n",
      "(2607, 6)\n",
      "data/AMZN_2012-01-01_to_2022-05-11.csv\n",
      "(2607, 6)\n",
      "data/SPY_2012-01-01_to_2022-05-11.csv\n",
      "(2607, 6)\n"
     ]
    }
   ],
   "source": [
    "import pandas_datareader as pdr\n",
    "import datetime\n",
    "\n",
    "start = datetime.datetime(2012, 1, 1)\n",
    "end = datetime.datetime(2022, 5, 11)\n",
    "start_date_str = str(start.date())\n",
    "end_date_str = str(end.date())\n",
    "\n",
    "stocks = ['MMM', 'AXP', 'AAPL', 'BA', 'CAT', 'CVX', 'CSCO', 'KO', 'DIS', 'XOM', 'GE',\n",
    "          'GS', 'HD', 'IBM', 'INTC', 'JNJ', 'JPM', 'MCD', 'MRK', 'MSFT', 'NKE', 'PFE',\n",
    "          'PG', 'TRV', 'UNH', 'VZ', 'WMT', 'GOOGL', 'AMZN','SPY']\n",
    "\n",
    "for ticker in stocks:\n",
    "    file_name = 'data/' + ticker + '_' + start_date_str + '_to_' + end_date_str + '.csv'\n",
    "    print(file_name)\n",
    "    data = pdr.DataReader(ticker, 'yahoo', start, end)\n",
    "    print(data.shape)\n",
    "    data.to_csv(file_name)"
   ]
  },
  {
   "cell_type": "code",
   "execution_count": 4,
   "id": "50e82958-0a4f-4e62-88ef-492b1db7cdef",
   "metadata": {},
   "outputs": [
    {
     "name": "stdout",
     "output_type": "stream",
     "text": [
      "total 16912\n",
      "drwxr-xr-x  32 wangliang  staff    1024  5 12 12:08 \u001b[34m.\u001b[m\u001b[m/\n",
      "drwxr-xr-x  12 wangliang  staff     384  5 12 12:06 \u001b[34m..\u001b[m\u001b[m/\n",
      "-rw-r--r--   1 wangliang  staff  292784  5 12 12:06 AAPL_2012-01-01_to_2022-05-11.csv\n",
      "-rw-r--r--   1 wangliang  staff  260810  5 12 12:08 AMZN_2012-01-01_to_2022-05-11.csv\n",
      "-rw-r--r--   1 wangliang  staff  283971  5 12 12:06 AXP_2012-01-01_to_2022-05-11.csv\n",
      "-rw-r--r--   1 wangliang  staff  283231  5 12 12:06 BA_2012-01-01_to_2022-05-11.csv\n",
      "-rw-r--r--   1 wangliang  staff  283350  5 12 12:06 CAT_2012-01-01_to_2022-05-11.csv\n",
      "-rw-r--r--   1 wangliang  staff  291230  5 12 12:06 CSCO_2012-01-01_to_2022-05-11.csv\n",
      "-rw-r--r--   1 wangliang  staff  288313  5 12 12:06 CVX_2012-01-01_to_2022-05-11.csv\n",
      "-rw-r--r--   1 wangliang  staff  286034  5 12 12:06 DIS_2012-01-01_to_2022-05-11.csv\n",
      "-rw-r--r--   1 wangliang  staff  288344  5 12 12:07 GE_2012-01-01_to_2022-05-11.csv\n",
      "-rw-r--r--   1 wangliang  staff  274315  5 12 12:08 GOOGL_2012-01-01_to_2022-05-11.csv\n",
      "-rw-r--r--   1 wangliang  staff  284782  5 12 12:07 GS_2012-01-01_to_2022-05-11.csv\n",
      "-rw-r--r--   1 wangliang  staff  284975  5 12 12:07 HD_2012-01-01_to_2022-05-11.csv\n",
      "-rw-r--r--   1 wangliang  staff  296573  5 12 12:07 IBM_2012-01-01_to_2022-05-11.csv\n",
      "-rw-r--r--   1 wangliang  staff  288989  5 12 12:07 INTC_2012-01-01_to_2022-05-11.csv\n",
      "-rw-r--r--   1 wangliang  staff  286596  5 12 12:07 JNJ_2012-01-01_to_2022-05-11.csv\n",
      "-rw-r--r--   1 wangliang  staff  288706  5 12 12:07 JPM_2012-01-01_to_2022-05-11.csv\n",
      "-rw-r--r--   1 wangliang  staff  288020  5 12 12:06 KO_2012-01-01_to_2022-05-11.csv\n",
      "-rw-r--r--   1 wangliang  staff  284955  5 12 12:07 MCD_2012-01-01_to_2022-05-11.csv\n",
      "-rw-r--r--   1 wangliang  staff  287111  5 12 12:06 MMM_2012-01-01_to_2022-05-11.csv\n",
      "-rw-r--r--   1 wangliang  staff  290990  5 12 12:07 MRK_2012-01-01_to_2022-05-11.csv\n",
      "-rw-r--r--   1 wangliang  staff  288853  5 12 12:07 MSFT_2012-01-01_to_2022-05-11.csv\n",
      "-rw-r--r--   1 wangliang  staff  284750  5 12 12:07 NKE_2012-01-01_to_2022-05-11.csv\n",
      "-rw-r--r--   1 wangliang  staff  296050  5 12 12:07 PFE_2012-01-01_to_2022-05-11.csv\n",
      "-rw-r--r--   1 wangliang  staff  283570  5 12 12:07 PG_2012-01-01_to_2022-05-11.csv\n",
      "-rw-r--r--   1 wangliang  staff  292800  5 12 12:08 SPY_2012-01-01_to_2022-05-11.csv\n",
      "-rw-r--r--   1 wangliang  staff  287692  5 12 12:07 TRV_2012-01-01_to_2022-05-11.csv\n",
      "-rw-r--r--   1 wangliang  staff  283697  5 12 12:07 UNH_2012-01-01_to_2022-05-11.csv\n",
      "-rw-r--r--   1 wangliang  staff  287769  5 12 12:07 VZ_2012-01-01_to_2022-05-11.csv\n",
      "-rw-r--r--   1 wangliang  staff  282936  5 12 12:08 WMT_2012-01-01_to_2022-05-11.csv\n",
      "-rw-r--r--   1 wangliang  staff  283543  5 12 12:06 XOM_2012-01-01_to_2022-05-11.csv\n"
     ]
    }
   ],
   "source": [
    "!cd ./data && ls -laF"
   ]
  },
  {
   "cell_type": "code",
   "execution_count": null,
   "id": "faef3fe1-bf2f-49c8-9807-96d17e99e495",
   "metadata": {},
   "outputs": [],
   "source": []
  }
 ],
 "metadata": {
  "kernelspec": {
   "display_name": "Python 3 (ipykernel)",
   "language": "python",
   "name": "python3"
  },
  "language_info": {
   "codemirror_mode": {
    "name": "ipython",
    "version": 3
   },
   "file_extension": ".py",
   "mimetype": "text/x-python",
   "name": "python",
   "nbconvert_exporter": "python",
   "pygments_lexer": "ipython3",
   "version": "3.9.7"
  },
  "toc-autonumbering": false,
  "toc-showcode": false,
  "toc-showmarkdowntxt": true
 },
 "nbformat": 4,
 "nbformat_minor": 5
}
