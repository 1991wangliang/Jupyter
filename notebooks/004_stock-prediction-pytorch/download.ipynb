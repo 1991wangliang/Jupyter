{
 "cells": [
  {
   "cell_type": "markdown",
   "id": "e2054285-4fe6-4e3a-9cf5-e18ff77a0ad0",
   "metadata": {},
   "source": [
    "## download data"
   ]
  },
  {
   "cell_type": "code",
   "execution_count": 1,
   "id": "889e8484-40c7-487c-9b6f-d58209b98ec2",
   "metadata": {},
   "outputs": [
    {
     "name": "stdout",
     "output_type": "stream",
     "text": [
      "Requirement already satisfied: pandas_datareader in /home/lorne/miniconda3/lib/python3.8/site-packages (0.10.0)\n",
      "Requirement already satisfied: requests>=2.19.0 in /home/lorne/miniconda3/lib/python3.8/site-packages (from pandas_datareader) (2.27.1)\n",
      "Requirement already satisfied: pandas>=0.23 in /home/lorne/miniconda3/lib/python3.8/site-packages (from pandas_datareader) (1.4.1)\n",
      "Requirement already satisfied: lxml in /home/lorne/miniconda3/lib/python3.8/site-packages (from pandas_datareader) (4.8.0)\n",
      "Requirement already satisfied: python-dateutil>=2.8.1 in /home/lorne/miniconda3/lib/python3.8/site-packages (from pandas>=0.23->pandas_datareader) (2.8.2)\n",
      "Requirement already satisfied: numpy>=1.18.5 in /home/lorne/miniconda3/lib/python3.8/site-packages (from pandas>=0.23->pandas_datareader) (1.22.2)\n",
      "Requirement already satisfied: pytz>=2020.1 in /home/lorne/miniconda3/lib/python3.8/site-packages (from pandas>=0.23->pandas_datareader) (2021.3)\n",
      "Requirement already satisfied: six>=1.5 in /home/lorne/miniconda3/lib/python3.8/site-packages (from python-dateutil>=2.8.1->pandas>=0.23->pandas_datareader) (1.16.0)\n",
      "Requirement already satisfied: certifi>=2017.4.17 in /home/lorne/miniconda3/lib/python3.8/site-packages (from requests>=2.19.0->pandas_datareader) (2021.5.30)\n",
      "Requirement already satisfied: charset-normalizer~=2.0.0 in /home/lorne/miniconda3/lib/python3.8/site-packages (from requests>=2.19.0->pandas_datareader) (2.0.12)\n",
      "Requirement already satisfied: idna<4,>=2.5 in /home/lorne/miniconda3/lib/python3.8/site-packages (from requests>=2.19.0->pandas_datareader) (2.10)\n",
      "Requirement already satisfied: urllib3<1.27,>=1.21.1 in /home/lorne/miniconda3/lib/python3.8/site-packages (from requests>=2.19.0->pandas_datareader) (1.26.6)\n",
      "\u001b[33mWARNING: Running pip as the 'root' user can result in broken permissions and conflicting behaviour with the system package manager. It is recommended to use a virtual environment instead: https://pip.pypa.io/warnings/venv\u001b[0m\n",
      "Note: you may need to restart the kernel to use updated packages.\n"
     ]
    }
   ],
   "source": [
    "pip install pandas_datareader"
   ]
  },
  {
   "cell_type": "code",
   "execution_count": 2,
   "id": "3f073dad-7d70-48eb-871a-77a0ef10e8a4",
   "metadata": {},
   "outputs": [],
   "source": [
    "import os\n",
    "os.environ['HTTP_PROXY'] = \"http://127.0.0.1:7890\" \n",
    "os.environ['HTTPS_PROXY'] = \"http://127.0.0.1:7890\" "
   ]
  },
  {
   "cell_type": "code",
   "execution_count": 3,
   "id": "b10ff70d-70ca-4ca4-8793-30ca04001873",
   "metadata": {},
   "outputs": [
    {
     "name": "stdout",
     "output_type": "stream",
     "text": [
      "data/MMM_2006-01-01_to_2021-01-01.csv\n",
      "(3776, 6)\n",
      "data/AXP_2006-01-01_to_2021-01-01.csv\n",
      "(3776, 6)\n",
      "data/AAPL_2006-01-01_to_2021-01-01.csv\n",
      "(3776, 6)\n",
      "data/BA_2006-01-01_to_2021-01-01.csv\n",
      "(3776, 6)\n",
      "data/CAT_2006-01-01_to_2021-01-01.csv\n",
      "(3776, 6)\n",
      "data/CVX_2006-01-01_to_2021-01-01.csv\n",
      "(3776, 6)\n",
      "data/CSCO_2006-01-01_to_2021-01-01.csv\n",
      "(3776, 6)\n",
      "data/KO_2006-01-01_to_2021-01-01.csv\n",
      "(3776, 6)\n",
      "data/DIS_2006-01-01_to_2021-01-01.csv\n",
      "(3776, 6)\n",
      "data/XOM_2006-01-01_to_2021-01-01.csv\n",
      "(3776, 6)\n",
      "data/GE_2006-01-01_to_2021-01-01.csv\n",
      "(3776, 6)\n",
      "data/GS_2006-01-01_to_2021-01-01.csv\n",
      "(3776, 6)\n",
      "data/HD_2006-01-01_to_2021-01-01.csv\n",
      "(3776, 6)\n",
      "data/IBM_2006-01-01_to_2021-01-01.csv\n",
      "(3776, 6)\n",
      "data/INTC_2006-01-01_to_2021-01-01.csv\n",
      "(3776, 6)\n",
      "data/JNJ_2006-01-01_to_2021-01-01.csv\n",
      "(3776, 6)\n",
      "data/JPM_2006-01-01_to_2021-01-01.csv\n",
      "(3776, 6)\n",
      "data/MCD_2006-01-01_to_2021-01-01.csv\n",
      "(3776, 6)\n",
      "data/MRK_2006-01-01_to_2021-01-01.csv\n",
      "(3776, 6)\n",
      "data/MSFT_2006-01-01_to_2021-01-01.csv\n",
      "(3776, 6)\n",
      "data/NKE_2006-01-01_to_2021-01-01.csv\n",
      "(3776, 6)\n",
      "data/PFE_2006-01-01_to_2021-01-01.csv\n",
      "(3776, 6)\n",
      "data/PG_2006-01-01_to_2021-01-01.csv\n",
      "(3776, 6)\n",
      "data/TRV_2006-01-01_to_2021-01-01.csv\n",
      "(3776, 6)\n",
      "data/UNH_2006-01-01_to_2021-01-01.csv\n",
      "(3776, 6)\n",
      "data/VZ_2006-01-01_to_2021-01-01.csv\n",
      "(3776, 6)\n",
      "data/WMT_2006-01-01_to_2021-01-01.csv\n",
      "(3776, 6)\n",
      "data/GOOGL_2006-01-01_to_2021-01-01.csv\n",
      "(3776, 6)\n",
      "data/AMZN_2006-01-01_to_2021-01-01.csv\n",
      "(3776, 6)\n",
      "data/SPY_2006-01-01_to_2021-01-01.csv\n",
      "(3776, 6)\n"
     ]
    }
   ],
   "source": [
    "import pandas_datareader as pdr\n",
    "import datetime\n",
    "\n",
    "start = datetime.datetime(2006, 1, 1)\n",
    "end = datetime.datetime(2021, 1, 1)\n",
    "start_date_str = str(start.date())\n",
    "end_date_str = str(end.date())\n",
    "\n",
    "stocks = ['MMM', 'AXP', 'AAPL', 'BA', 'CAT', 'CVX', 'CSCO', 'KO', 'DIS', 'XOM', 'GE',\n",
    "          'GS', 'HD', 'IBM', 'INTC', 'JNJ', 'JPM', 'MCD', 'MRK', 'MSFT', 'NKE', 'PFE',\n",
    "          'PG', 'TRV', 'UNH', 'VZ', 'WMT', 'GOOGL', 'AMZN','SPY']\n",
    "\n",
    "for ticker in stocks:\n",
    "    file_name = 'data/' + ticker + '_' + start_date_str + '_to_' + end_date_str + '.csv'\n",
    "    print(file_name)\n",
    "    data = pdr.DataReader(ticker, 'yahoo', start, end)\n",
    "    print(data.shape)\n",
    "    data.to_csv(file_name)"
   ]
  },
  {
   "cell_type": "code",
   "execution_count": 4,
   "id": "50e82958-0a4f-4e62-88ef-492b1db7cdef",
   "metadata": {},
   "outputs": [
    {
     "name": "stdout",
     "output_type": "stream",
     "text": [
      "总用量 96\n",
      "drwxrwxr-x 4 lorne lorne  4096 5月   1 20:20 \u001b[0m\u001b[01;34m.\u001b[0m/\n",
      "drwxrwxr-x 6 lorne lorne  4096 5月   1 20:01 \u001b[01;34m..\u001b[0m/\n",
      "drwxrwxr-x 2 lorne lorne  4096 5月   1 20:01 \u001b[01;34mdata\u001b[0m/\n",
      "-rw-rw-r-- 1 lorne lorne  5479 5月   1 20:20 download.ipynb\n",
      "-rw-rw-r-- 1 lorne lorne   665 5月   1 20:01 download.py\n",
      "-rw-rw-r-- 1 lorne lorne 66421 5月   1 20:04 index.ipynb\n",
      "drwxr-xr-x 2 root  root   4096 5月   1 20:02 \u001b[01;34m.ipynb_checkpoints\u001b[0m/\n"
     ]
    }
   ],
   "source": [
    "ls -laF"
   ]
  },
  {
   "cell_type": "code",
   "execution_count": null,
   "id": "6fd331dd-7601-4c8f-afee-78e88c44b5c1",
   "metadata": {},
   "outputs": [],
   "source": []
  }
 ],
 "metadata": {
  "kernelspec": {
   "display_name": "Python 3 (ipykernel)",
   "language": "python",
   "name": "python3"
  },
  "language_info": {
   "codemirror_mode": {
    "name": "ipython",
    "version": 3
   },
   "file_extension": ".py",
   "mimetype": "text/x-python",
   "name": "python",
   "nbconvert_exporter": "python",
   "pygments_lexer": "ipython3",
   "version": "3.8.10"
  },
  "toc-autonumbering": false,
  "toc-showcode": false,
  "toc-showmarkdowntxt": true
 },
 "nbformat": 4,
 "nbformat_minor": 5
}
