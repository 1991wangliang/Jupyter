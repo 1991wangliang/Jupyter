{
 "cells": [
  {
   "cell_type": "markdown",
   "id": "e2054285-4fe6-4e3a-9cf5-e18ff77a0ad0",
   "metadata": {},
   "source": [
    "# Download Stock Data  "
   ]
  },
  {
   "cell_type": "code",
   "execution_count": 1,
   "id": "3f073dad-7d70-48eb-871a-77a0ef10e8a4",
   "metadata": {},
   "outputs": [],
   "source": [
    "import os\n",
    "os.environ['HTTP_PROXY'] = \"http://127.0.0.1:7890\" \n",
    "os.environ['HTTPS_PROXY'] = \"http://127.0.0.1:7890\" "
   ]
  },
  {
   "cell_type": "code",
   "execution_count": 2,
   "id": "5b94d422-dd05-4d1f-8599-fc2f9139c725",
   "metadata": {},
   "outputs": [],
   "source": [
    "! rm -rf data\n",
    "! mkdir -p data"
   ]
  },
  {
   "cell_type": "code",
   "execution_count": 3,
   "id": "b10ff70d-70ca-4ca4-8793-30ca04001873",
   "metadata": {},
   "outputs": [
    {
     "name": "stdout",
     "output_type": "stream",
     "text": [
      "data/MMM_2012-01-01_to_2022-05-11.csv\n",
      "(2607, 6)\n",
      "data/AXP_2012-01-01_to_2022-05-11.csv\n",
      "(2607, 6)\n",
      "data/AAPL_2012-01-01_to_2022-05-11.csv\n",
      "(2607, 6)\n",
      "data/BA_2012-01-01_to_2022-05-11.csv\n",
      "(2607, 6)\n",
      "data/CAT_2012-01-01_to_2022-05-11.csv\n",
      "(2607, 6)\n",
      "data/CVX_2012-01-01_to_2022-05-11.csv\n",
      "(2607, 6)\n",
      "data/CSCO_2012-01-01_to_2022-05-11.csv\n",
      "(2607, 6)\n",
      "data/KO_2012-01-01_to_2022-05-11.csv\n",
      "(2607, 6)\n",
      "data/DIS_2012-01-01_to_2022-05-11.csv\n",
      "(2607, 6)\n",
      "data/XOM_2012-01-01_to_2022-05-11.csv\n",
      "(2607, 6)\n",
      "data/GE_2012-01-01_to_2022-05-11.csv\n",
      "(2607, 6)\n",
      "data/GS_2012-01-01_to_2022-05-11.csv\n",
      "(2607, 6)\n",
      "data/HD_2012-01-01_to_2022-05-11.csv\n",
      "(2607, 6)\n",
      "data/IBM_2012-01-01_to_2022-05-11.csv\n",
      "(2607, 6)\n",
      "data/INTC_2012-01-01_to_2022-05-11.csv\n",
      "(2607, 6)\n",
      "data/JNJ_2012-01-01_to_2022-05-11.csv\n",
      "(2607, 6)\n",
      "data/JPM_2012-01-01_to_2022-05-11.csv\n",
      "(2607, 6)\n",
      "data/MCD_2012-01-01_to_2022-05-11.csv\n",
      "(2607, 6)\n",
      "data/MRK_2012-01-01_to_2022-05-11.csv\n",
      "(2607, 6)\n",
      "data/MSFT_2012-01-01_to_2022-05-11.csv\n",
      "(2607, 6)\n",
      "data/NKE_2012-01-01_to_2022-05-11.csv\n",
      "(2607, 6)\n",
      "data/PFE_2012-01-01_to_2022-05-11.csv\n",
      "(2607, 6)\n",
      "data/PG_2012-01-01_to_2022-05-11.csv\n",
      "(2607, 6)\n",
      "data/TRV_2012-01-01_to_2022-05-11.csv\n",
      "(2607, 6)\n",
      "data/UNH_2012-01-01_to_2022-05-11.csv\n",
      "(2607, 6)\n",
      "data/VZ_2012-01-01_to_2022-05-11.csv\n",
      "(2607, 6)\n",
      "data/WMT_2012-01-01_to_2022-05-11.csv\n",
      "(2607, 6)\n",
      "data/GOOGL_2012-01-01_to_2022-05-11.csv\n",
      "(2607, 6)\n",
      "data/AMZN_2012-01-01_to_2022-05-11.csv\n",
      "(2607, 6)\n",
      "data/SPY_2012-01-01_to_2022-05-11.csv\n",
      "(2607, 6)\n"
     ]
    }
   ],
   "source": [
    "import pandas_datareader as pdr\n",
    "import datetime\n",
    "\n",
    "start = datetime.datetime(2012, 1, 1)\n",
    "end = datetime.datetime(2022, 5, 11)\n",
    "start_date_str = str(start.date())\n",
    "end_date_str = str(end.date())\n",
    "\n",
    "stocks = ['MMM', 'AXP', 'AAPL', 'BA', 'CAT', 'CVX', 'CSCO', 'KO', 'DIS', 'XOM', 'GE',\n",
    "          'GS', 'HD', 'IBM', 'INTC', 'JNJ', 'JPM', 'MCD', 'MRK', 'MSFT', 'NKE', 'PFE',\n",
    "          'PG', 'TRV', 'UNH', 'VZ', 'WMT', 'GOOGL', 'AMZN','SPY']\n",
    "\n",
    "for ticker in stocks:\n",
    "    file_name = 'data/' + ticker + '_' + start_date_str + '_to_' + end_date_str + '.csv'\n",
    "    print(file_name)\n",
    "    data = pdr.DataReader(ticker, 'yahoo', start, end)\n",
    "    print(data.shape)\n",
    "    data.to_csv(file_name)"
   ]
  },
  {
   "cell_type": "code",
   "execution_count": 4,
   "id": "50e82958-0a4f-4e62-88ef-492b1db7cdef",
   "metadata": {},
   "outputs": [
    {
     "name": "stdout",
     "output_type": "stream",
     "text": [
      "总用量 8508\n",
      "drwxr-xr-x 2 root  root    4096 10月 11 22:30 ./\n",
      "drwxrwxr-x 4 lorne lorne   4096 10月 11 22:29 ../\n",
      "-rw-r--r-- 1 root  root  292861 10月 11 22:29 AAPL_2012-01-01_to_2022-05-11.csv\n",
      "-rw-r--r-- 1 root  root  286072 10月 11 22:30 AMZN_2012-01-01_to_2022-05-11.csv\n",
      "-rw-r--r-- 1 root  root  283993 10月 11 22:29 AXP_2012-01-01_to_2022-05-11.csv\n",
      "-rw-r--r-- 1 root  root  283283 10月 11 22:29 BA_2012-01-01_to_2022-05-11.csv\n",
      "-rw-r--r-- 1 root  root  283297 10月 11 22:29 CAT_2012-01-01_to_2022-05-11.csv\n",
      "-rw-r--r-- 1 root  root  291244 10月 11 22:29 CSCO_2012-01-01_to_2022-05-11.csv\n",
      "-rw-r--r-- 1 root  root  288343 10月 11 22:29 CVX_2012-01-01_to_2022-05-11.csv\n",
      "-rw-r--r-- 1 root  root  286080 10月 11 22:29 DIS_2012-01-01_to_2022-05-11.csv\n",
      "-rw-r--r-- 1 root  root  288330 10月 11 22:29 GE_2012-01-01_to_2022-05-11.csv\n",
      "-rw-r--r-- 1 root  root  293130 10月 11 22:30 GOOGL_2012-01-01_to_2022-05-11.csv\n",
      "-rw-r--r-- 1 root  root  284771 10月 11 22:29 GS_2012-01-01_to_2022-05-11.csv\n",
      "-rw-r--r-- 1 root  root  284981 10月 11 22:29 HD_2012-01-01_to_2022-05-11.csv\n",
      "-rw-r--r-- 1 root  root  296562 10月 11 22:29 IBM_2012-01-01_to_2022-05-11.csv\n",
      "-rw-r--r-- 1 root  root  289332 10月 11 22:29 INTC_2012-01-01_to_2022-05-11.csv\n",
      "-rw-r--r-- 1 root  root  286597 10月 11 22:29 JNJ_2012-01-01_to_2022-05-11.csv\n",
      "-rw-r--r-- 1 root  root  288593 10月 11 22:29 JPM_2012-01-01_to_2022-05-11.csv\n",
      "-rw-r--r-- 1 root  root  288181 10月 11 22:29 KO_2012-01-01_to_2022-05-11.csv\n",
      "-rw-r--r-- 1 root  root  284928 10月 11 22:29 MCD_2012-01-01_to_2022-05-11.csv\n",
      "-rw-r--r-- 1 root  root  287148 10月 11 22:29 MMM_2012-01-01_to_2022-05-11.csv\n",
      "-rw-r--r-- 1 root  root  291045 10月 11 22:29 MRK_2012-01-01_to_2022-05-11.csv\n",
      "-rw-r--r-- 1 root  root  289063 10月 11 22:29 MSFT_2012-01-01_to_2022-05-11.csv\n",
      "-rw-r--r-- 1 root  root  284731 10月 11 22:29 NKE_2012-01-01_to_2022-05-11.csv\n",
      "-rw-r--r-- 1 root  root  296167 10月 11 22:29 PFE_2012-01-01_to_2022-05-11.csv\n",
      "-rw-r--r-- 1 root  root  283623 10月 11 22:29 PG_2012-01-01_to_2022-05-11.csv\n",
      "-rw-r--r-- 1 root  root  292890 10月 11 22:30 SPY_2012-01-01_to_2022-05-11.csv\n",
      "-rw-r--r-- 1 root  root  287749 10月 11 22:30 TRV_2012-01-01_to_2022-05-11.csv\n",
      "-rw-r--r-- 1 root  root  283789 10月 11 22:30 UNH_2012-01-01_to_2022-05-11.csv\n",
      "-rw-r--r-- 1 root  root  287900 10月 11 22:30 VZ_2012-01-01_to_2022-05-11.csv\n",
      "-rw-r--r-- 1 root  root  283100 10月 11 22:30 WMT_2012-01-01_to_2022-05-11.csv\n",
      "-rw-r--r-- 1 root  root  283599 10月 11 22:29 XOM_2012-01-01_to_2022-05-11.csv\n"
     ]
    }
   ],
   "source": [
    "!cd ./data && ls -laF"
   ]
  },
  {
   "cell_type": "code",
   "execution_count": null,
   "id": "faef3fe1-bf2f-49c8-9807-96d17e99e495",
   "metadata": {},
   "outputs": [],
   "source": []
  }
 ],
 "metadata": {
  "kernelspec": {
   "display_name": "Python 3 (ipykernel)",
   "language": "python",
   "name": "python3"
  },
  "language_info": {
   "codemirror_mode": {
    "name": "ipython",
    "version": 3
   },
   "file_extension": ".py",
   "mimetype": "text/x-python",
   "name": "python",
   "nbconvert_exporter": "python",
   "pygments_lexer": "ipython3",
   "version": "3.8.10"
  },
  "toc-autonumbering": false,
  "toc-showcode": false,
  "toc-showmarkdowntxt": true
 },
 "nbformat": 4,
 "nbformat_minor": 5
}
