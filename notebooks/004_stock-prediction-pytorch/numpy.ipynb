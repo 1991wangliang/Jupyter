{
 "cells": [
  {
   "cell_type": "markdown",
   "id": "53443918-d31f-4bab-aadd-f56bebd625f2",
   "metadata": {},
   "source": [
    "# Numpy Test\n"
   ]
  },
  {
   "cell_type": "code",
   "execution_count": 1,
   "id": "a424b7c2-5049-4211-8619-2df4430de5da",
   "metadata": {},
   "outputs": [
    {
     "name": "stdout",
     "output_type": "stream",
     "text": [
      "[[[0.48210123]\n",
      "  [0.48528944]\n",
      "  [0.8168223 ]\n",
      "  [0.32080142]\n",
      "  [0.60639619]]\n",
      "\n",
      " [[0.74834432]\n",
      "  [0.31833445]\n",
      "  [0.69924429]\n",
      "  [0.18148809]\n",
      "  [0.00438397]]\n",
      "\n",
      " [[0.19582534]\n",
      "  [0.99634782]\n",
      "  [0.70457388]\n",
      "  [0.27739078]\n",
      "  [0.3625465 ]]]\n",
      "data shape (3, 5, 1)\n"
     ]
    }
   ],
   "source": [
    "import numpy as np\n",
    "data = np.random.rand(3,5,1)\n",
    "\n",
    "print(data)\n",
    "print('data shape',data.shape)"
   ]
  },
  {
   "cell_type": "code",
   "execution_count": 2,
   "id": "ea6871f4-61ca-4101-88af-27c0e51c411a",
   "metadata": {},
   "outputs": [
    {
     "name": "stdout",
     "output_type": "stream",
     "text": [
      "[[[0.48210123]\n",
      "  [0.48528944]\n",
      "  [0.8168223 ]\n",
      "  [0.32080142]\n",
      "  [0.60639619]]\n",
      "\n",
      " [[0.74834432]\n",
      "  [0.31833445]\n",
      "  [0.69924429]\n",
      "  [0.18148809]\n",
      "  [0.00438397]]]\n",
      "data2 shape (2, 5, 1)\n"
     ]
    }
   ],
   "source": [
    "data2 = data[0:2]\n",
    "print(data2)\n",
    "print('data2 shape',data2.shape)"
   ]
  },
  {
   "cell_type": "code",
   "execution_count": 6,
   "id": "7595ce16-a999-4397-b958-499fa0625715",
   "metadata": {},
   "outputs": [
    {
     "name": "stdout",
     "output_type": "stream",
     "text": [
      "x shape (2, 4, 1)\n",
      "[[[0.48210123]\n",
      "  [0.48528944]\n",
      "  [0.8168223 ]\n",
      "  [0.32080142]]\n",
      "\n",
      " [[0.74834432]\n",
      "  [0.31833445]\n",
      "  [0.69924429]\n",
      "  [0.18148809]]]\n",
      "y shape (2, 1)\n",
      "[[0.60639619]\n",
      " [0.00438397]]\n"
     ]
    }
   ],
   "source": [
    "\n",
    "x = data[:2,:-1,:]\n",
    "print('x shape',x.shape)\n",
    "print(x)\n",
    "\n",
    "\n",
    "y = data[:2,-1,:]\n",
    "print('y shape',y.shape)\n",
    "print(y)"
   ]
  },
  {
   "cell_type": "code",
   "execution_count": null,
   "id": "2a3e73b5-07bc-478c-9dd3-dd9465fdba43",
   "metadata": {},
   "outputs": [],
   "source": []
  }
 ],
 "metadata": {
  "kernelspec": {
   "display_name": "Python 3 (ipykernel)",
   "language": "python",
   "name": "python3"
  },
  "language_info": {
   "codemirror_mode": {
    "name": "ipython",
    "version": 3
   },
   "file_extension": ".py",
   "mimetype": "text/x-python",
   "name": "python",
   "nbconvert_exporter": "python",
   "pygments_lexer": "ipython3",
   "version": "3.8.10"
  }
 },
 "nbformat": 4,
 "nbformat_minor": 5
}
